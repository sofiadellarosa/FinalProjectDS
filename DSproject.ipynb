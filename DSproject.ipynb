{
  "nbformat": 4,
  "nbformat_minor": 0,
  "metadata": {
    "colab": {
      "provenance": [],
      "include_colab_link": true
    },
    "kernelspec": {
      "name": "python3",
      "display_name": "Python 3"
    },
    "language_info": {
      "name": "python"
    }
  },
  "cells": [
    {
      "cell_type": "markdown",
      "metadata": {
        "id": "view-in-github",
        "colab_type": "text"
      },
      "source": [
        "<a href=\"https://colab.research.google.com/github/sofiadellarosa/FinalProjectDS/blob/main/DSproject.ipynb\" target=\"_parent\"><img src=\"https://colab.research.google.com/assets/colab-badge.svg\" alt=\"Open In Colab\"/></a>"
      ]
    },
    {
      "cell_type": "code",
      "execution_count": null,
      "metadata": {
        "colab": {
          "base_uri": "https://localhost:8080/"
        },
        "id": "y4tA7V5PItXH",
        "outputId": "0fff012c-2592-4501-e2bb-212c9a6beee9"
      },
      "outputs": [
        {
          "output_type": "stream",
          "name": "stdout",
          "text": [
            "Mounted at /content/drive\n"
          ]
        }
      ],
      "source": [
        "from google.colab import drive\n",
        "drive.mount('/content/drive')"
      ]
    },
    {
      "cell_type": "code",
      "source": [
        "# np=\"/content/drive/MyDrive/project_files/DSproject.ipynb\"\n",
        "# print(np)\n",
        "\n",
        "%%shell\n",
        "jupyter nbconvert --to html \"/content/drive/MyDrive/project_files/DSproject.ipynb\""
      ],
      "metadata": {
        "colab": {
          "base_uri": "https://localhost:8080/"
        },
        "id": "WxkpR9s2LYgS",
        "outputId": "545e7802-37c2-484f-9ae0-4cfc09be8424"
      },
      "execution_count": null,
      "outputs": [
        {
          "output_type": "stream",
          "name": "stdout",
          "text": [
            "[NbConvertApp] Converting notebook /content/drive/MyDrive/project_files/DSproject.ipynb to html\n",
            "[NbConvertApp] Writing 271979 bytes to /content/drive/MyDrive/project_files/DSproject.html\n"
          ]
        },
        {
          "output_type": "execute_result",
          "data": {
            "text/plain": []
          },
          "metadata": {},
          "execution_count": 9
        }
      ]
    },
    {
      "cell_type": "markdown",
      "source": [
        "Project Name: Housing Market Change after Natural Disaster\n",
        "\n",
        "Team Members: Brandon Butler and Sofia Della Rosa\n",
        "\n",
        "Project Description:\n",
        "For this project we will analyze how certain natural disasters in different regions impact the housing market in the United States. We can use that information to see if property values decline after disasters and how quickly they recover. The natural disasters we will be looking at are: hurricanes, earthquake, drought, fire, flood, and tornadoes.\n",
        "\n",
        "Collaboration Plan:\n",
        "For this project, we have a collaboration plan to make sure we have efficient workflow and collaboration. We meet in person every Wednesday to work on the project together. We communicate through text messages. We also use a shared Google Calendar to set up meetings and keep track of deadlines. We also set up a shared Google Drive where we store project documents and files. Inside the Google Drive is a To-Do Note file that we use to track our project tasks. Lastly, we made a GitHub repository to manage and coordinate our code efficiently.\n",
        "\n",
        "Table 1:\n",
        "The first dataset we are working with is the Federal Housing Finance Agency's Annual House Price Indexes. This dataset contains House Price Index (HPI) data at the state and zip code levels. We chose this dataset because it provides a reliable measure of housing market trends over time. This will allow us to analyze how property values change in response to natural disasters and then track their recovery rates. A question we have for this dataset is how do house prices change in the years following a natural disaster? Another question is how long does it take for them to return to pre-disaster levels?\n",
        "\n",
        "Small amount of ETL including 3-5 interesting stats\n",
        "One graph\n",
        "\n",
        "Table 2:\n",
        "The next dataset we are working with is FEMA’s Disaster Declarations Summaries. This dataset lists all federally declared disasters with relevant attributes such as date, type, and duration. We chose this dataset because it provides detailed records of natural disasters. This will allow us to identify when and where disasters occurred and then analyze their impact on housing markets in affected regions. A question we have for this dataset is what types of natural disasters have the most significant and longest impact on housing prices in affected areas?\n",
        "\n",
        "Small amount of ETL including 3-5 interesting stats\n",
        "One Graph\n",
        "\n",
        "\n",
        "Project Goals:\n",
        "\n"
      ],
      "metadata": {
        "id": "cnowLZa7JiO0"
      }
    }
  ]
}